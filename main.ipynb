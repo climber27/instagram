{
 "cells": [
  {
   "cell_type": "code",
   "execution_count": null,
   "id": "3fe6f929",
   "metadata": {},
   "outputs": [],
   "source": [
    "from bs4 import BeautifulSoup"
   ]
  },
  {
   "cell_type": "code",
   "execution_count": null,
   "id": "93a31111",
   "metadata": {},
   "outputs": [],
   "source": [
    "with open(\"./followers.html\") as fp:\n",
    "    followers_page = BeautifulSoup(fp, 'html.parser')"
   ]
  },
  {
   "cell_type": "code",
   "execution_count": null,
   "id": "e0ef8158",
   "metadata": {},
   "outputs": [],
   "source": [
    "with open(\"./following.html\") as fp:\n",
    "    following_page = BeautifulSoup(fp, 'html.parser')"
   ]
  },
  {
   "cell_type": "code",
   "execution_count": null,
   "id": "5cb3507f",
   "metadata": {},
   "outputs": [],
   "source": [
    "followers = set()\n",
    "for link in followers_page.find_all(\"a\", href=True):\n",
    "    followers.add(link[\"href\"])"
   ]
  },
  {
   "cell_type": "code",
   "execution_count": null,
   "id": "d25f1af6",
   "metadata": {},
   "outputs": [],
   "source": [
    "following = set()\n",
    "for link in following_page.find_all(\"a\", href=True):\n",
    "    following.add(link[\"href\"])"
   ]
  },
  {
   "cell_type": "code",
   "execution_count": null,
   "id": "91afc631",
   "metadata": {},
   "outputs": [],
   "source": [
    "following.difference(followers)"
   ]
  },
  {
   "cell_type": "code",
   "execution_count": null,
   "id": "54fae120",
   "metadata": {},
   "outputs": [],
   "source": []
  }
 ],
 "metadata": {
  "kernelspec": {
   "display_name": "Python [conda env:py] *",
   "language": "python",
   "name": "conda-env-py-py"
  },
  "language_info": {
   "codemirror_mode": {
    "name": "ipython",
    "version": 3
   },
   "file_extension": ".py",
   "mimetype": "text/x-python",
   "name": "python",
   "nbconvert_exporter": "python",
   "pygments_lexer": "ipython3",
   "version": "3.9.12"
  }
 },
 "nbformat": 4,
 "nbformat_minor": 5
}
