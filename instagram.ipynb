{
 "cells": [
  {
   "cell_type": "code",
   "execution_count": 15,
   "id": "3fe6f929",
   "metadata": {},
   "outputs": [],
   "source": [
    "from bs4 import BeautifulSoup"
   ]
  },
  {
   "cell_type": "code",
   "execution_count": 16,
   "id": "93a31111",
   "metadata": {},
   "outputs": [],
   "source": [
    "with open(\"./instagram_followers.html\") as fp:\n",
    "    followers_page = BeautifulSoup(fp, 'html.parser')"
   ]
  },
  {
   "cell_type": "code",
   "execution_count": 17,
   "id": "e0ef8158",
   "metadata": {},
   "outputs": [],
   "source": [
    "with open(\"./instagram_following.html\") as fp:\n",
    "    following_page = BeautifulSoup(fp, 'html.parser')"
   ]
  },
  {
   "cell_type": "code",
   "execution_count": 18,
   "id": "5cb3507f",
   "metadata": {},
   "outputs": [],
   "source": [
    "followers = set()\n",
    "for link in followers_page.find_all(\"a\", href=True):\n",
    "    followers.add(link[\"href\"])"
   ]
  },
  {
   "cell_type": "code",
   "execution_count": 19,
   "id": "d25f1af6",
   "metadata": {},
   "outputs": [],
   "source": [
    "following = set()\n",
    "for link in following_page.find_all(\"a\", href=True):\n",
    "    following.add(link[\"href\"])"
   ]
  },
  {
   "cell_type": "code",
   "execution_count": 20,
   "id": "91afc631",
   "metadata": {},
   "outputs": [
    {
     "data": {
      "text/plain": [
       "{'/jimmygoldblum/', '/venicerunclub/', '/whatishumanspodcast/'}"
      ]
     },
     "execution_count": 20,
     "metadata": {},
     "output_type": "execute_result"
    }
   ],
   "source": [
    "following.difference(followers)"
   ]
  },
  {
   "cell_type": "code",
   "execution_count": 21,
   "id": "54fae120",
   "metadata": {},
   "outputs": [
    {
     "data": {
      "text/plain": [
       "207"
      ]
     },
     "execution_count": 21,
     "metadata": {},
     "output_type": "execute_result"
    }
   ],
   "source": [
    "len(followers)"
   ]
  },
  {
   "cell_type": "code",
   "execution_count": 22,
   "id": "3fc6e69e",
   "metadata": {},
   "outputs": [
    {
     "data": {
      "text/plain": [
       "210"
      ]
     },
     "execution_count": 22,
     "metadata": {},
     "output_type": "execute_result"
    }
   ],
   "source": [
    "len(following)"
   ]
  },
  {
   "cell_type": "code",
   "execution_count": null,
   "id": "725e9ad7",
   "metadata": {},
   "outputs": [],
   "source": []
  }
 ],
 "metadata": {
  "kernelspec": {
   "display_name": "Python 3 (ipykernel)",
   "language": "python",
   "name": "python3"
  },
  "language_info": {
   "codemirror_mode": {
    "name": "ipython",
    "version": 3
   },
   "file_extension": ".py",
   "mimetype": "text/x-python",
   "name": "python",
   "nbconvert_exporter": "python",
   "pygments_lexer": "ipython3",
   "version": "3.9.12"
  },
  "vscode": {
   "interpreter": {
    "hash": "d67adc2a023316a77486f9a37d43642b85ccf627c357fc0591ffcd82295f1aa7"
   }
  }
 },
 "nbformat": 4,
 "nbformat_minor": 5
}
