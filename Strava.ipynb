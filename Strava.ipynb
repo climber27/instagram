{
 "cells": [
  {
   "cell_type": "code",
   "execution_count": 5,
   "id": "4ac9926a",
   "metadata": {},
   "outputs": [],
   "source": [
    "from bs4 import BeautifulSoup"
   ]
  },
  {
   "cell_type": "code",
   "execution_count": 13,
   "id": "7d33723c",
   "metadata": {},
   "outputs": [],
   "source": [
    "with open(\"./strava_following.html\") as fp:\n",
    "    following_page = BeautifulSoup(fp, 'html.parser')"
   ]
  },
  {
   "cell_type": "code",
   "execution_count": 14,
   "id": "90038250",
   "metadata": {},
   "outputs": [],
   "source": [
    "with open(\"./strava_followers.html\") as fp:\n",
    "    followers_page = BeautifulSoup(fp, 'html.parser')"
   ]
  },
  {
   "cell_type": "code",
   "execution_count": 15,
   "id": "bf42690b",
   "metadata": {},
   "outputs": [],
   "source": [
    "following = set()\n",
    "for link in following_page.find_all(\"a\", href=True):\n",
    "    if link.string:\n",
    "        following.add(link.string)"
   ]
  },
  {
   "cell_type": "code",
   "execution_count": 16,
   "id": "8e636554",
   "metadata": {},
   "outputs": [],
   "source": [
    "followers = set()\n",
    "for link in followers_page.find_all(\"a\", href=True):\n",
    "    if link.string:\n",
    "        followers.add(link.string)"
   ]
  },
  {
   "cell_type": "code",
   "execution_count": 17,
   "id": "f1354c48",
   "metadata": {},
   "outputs": [
    {
     "data": {
      "text/plain": [
       "{'David Hartman'}"
      ]
     },
     "execution_count": 17,
     "metadata": {},
     "output_type": "execute_result"
    }
   ],
   "source": [
    "following.difference(followers)"
   ]
  },
  {
   "cell_type": "code",
   "execution_count": 18,
   "id": "cf9677c5",
   "metadata": {},
   "outputs": [
    {
     "data": {
      "text/plain": [
       "(75, 74)"
      ]
     },
     "execution_count": 18,
     "metadata": {},
     "output_type": "execute_result"
    }
   ],
   "source": [
    "len(following), len(followers)"
   ]
  },
  {
   "cell_type": "code",
   "execution_count": null,
   "id": "71e6fd9f",
   "metadata": {},
   "outputs": [],
   "source": []
  }
 ],
 "metadata": {
  "kernelspec": {
   "display_name": "Python [conda env:py] *",
   "language": "python",
   "name": "conda-env-py-py"
  },
  "language_info": {
   "codemirror_mode": {
    "name": "ipython",
    "version": 3
   },
   "file_extension": ".py",
   "mimetype": "text/x-python",
   "name": "python",
   "nbconvert_exporter": "python",
   "pygments_lexer": "ipython3",
   "version": "3.9.12"
  }
 },
 "nbformat": 4,
 "nbformat_minor": 5
}
